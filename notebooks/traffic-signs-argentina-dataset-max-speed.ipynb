{
 "cells": [
  {
   "cell_type": "markdown",
   "metadata": {
    "deletable": true,
    "editable": true
   },
   "source": [
    "# Traffic Signs Dataset (Argentina)\n",
    "In this notebook, I'm going to be organizing my traffic signs dataset, creating pickle files, etc."
   ]
  },
  {
   "cell_type": "code",
   "execution_count": 8,
   "metadata": {
    "collapsed": true,
    "deletable": true,
    "editable": true
   },
   "outputs": [],
   "source": [
    "import os\n",
    "import cv2\n",
    "import csv\n",
    "import glob\n",
    "import pickle\n",
    "import random\n",
    "import numpy as np\n",
    "from tqdm import tqdm_notebook\n",
    "from matplotlib import pyplot as plt\n",
    "\n",
    "%matplotlib inline\n",
    "plt.rcParams['figure.figsize'] = (20, 6)"
   ]
  },
  {
   "cell_type": "code",
   "execution_count": 16,
   "metadata": {
    "collapsed": true
   },
   "outputs": [],
   "source": [
    "# Folders path\n",
    "dataset_path = '/home/arian/Documents/proyecto-integrador/data/yolo/0-crops'\n",
    "\n",
    "# Image size\n",
    "IMG_SIZE = 64"
   ]
  },
  {
   "cell_type": "code",
   "execution_count": 17,
   "metadata": {
    "collapsed": true
   },
   "outputs": [],
   "source": [
    "classes = {\n",
    "    'max-90': 6,\n",
    "    'max-50': 3,\n",
    "    'max-40': 2,\n",
    "    'max-110': 8,\n",
    "    'max-30': 1,\n",
    "    'max-100': 7,\n",
    "    'max-130': 10,\n",
    "    'max-60': 4,\n",
    "    'max-120': 9,\n",
    "    'max-20': 0,\n",
    "    'max-80': 5,\n",
    "}"
   ]
  },
  {
   "cell_type": "code",
   "execution_count": 18,
   "metadata": {
    "collapsed": false
   },
   "outputs": [
    {
     "name": "stdout",
     "output_type": "stream",
     "text": [
      "11\n"
     ]
    }
   ],
   "source": [
    "print(len(classes.keys()))"
   ]
  },
  {
   "cell_type": "code",
   "execution_count": 19,
   "metadata": {
    "collapsed": false
   },
   "outputs": [
    {
     "name": "stdout",
     "output_type": "stream",
     "text": [
      "4\n"
     ]
    }
   ],
   "source": [
    "print(classes['max-60'])"
   ]
  },
  {
   "cell_type": "code",
   "execution_count": 21,
   "metadata": {
    "collapsed": false
   },
   "outputs": [
    {
     "data": {
      "application/vnd.jupyter.widget-view+json": {
       "model_id": "521a7fb0593644cdba34550d3728ec41"
      }
     },
     "metadata": {},
     "output_type": "display_data"
    },
    {
     "name": "stdout",
     "output_type": "stream",
     "text": [
      "\n"
     ]
    }
   ],
   "source": [
    "classes_folder = glob.glob(os.path.join(dataset_path, '*'))\n",
    "\n",
    "train_data = []\n",
    "\n",
    "for class_folder in tqdm_notebook(classes_folder):\n",
    "    file_filter = '*.jpg'\n",
    "    file_list = glob.glob(os.path.join(class_folder, file_filter))\n",
    "    \n",
    "    class_name = os.path.basename(class_folder)\n",
    "    \n",
    "    if class_name.startswith('max'):\n",
    "        for image_path in file_list:\n",
    "            item = []\n",
    "\n",
    "            img = cv2.imread(image_path)\n",
    "            img = cv2.resize(img, (IMG_SIZE, IMG_SIZE))\n",
    "            img = img[...,::-1]\n",
    "\n",
    "            item.append(img)\n",
    "            item.append(classes[class_name])\n",
    "\n",
    "            train_data.append(item)"
   ]
  },
  {
   "cell_type": "code",
   "execution_count": 22,
   "metadata": {
    "collapsed": true,
    "deletable": true,
    "editable": true
   },
   "outputs": [],
   "source": [
    "# Pickle folder \n",
    "data_folder = './data/maxspeed/'\n",
    "train_pickle_file = 'train.p' \n",
    "valid_pickle_file = 'valid.p'\n",
    "test_pickle_file = 'test.p'"
   ]
  },
  {
   "cell_type": "code",
   "execution_count": 23,
   "metadata": {
    "collapsed": false,
    "deletable": true,
    "editable": true
   },
   "outputs": [
    {
     "data": {
      "text/html": [
       "<table border=\"1\" cellpadding=\"3\" cellspacing=\"0\"  style=\"border:1px solid black;border-collapse:collapse;\"><tr><td  style=\"background-color:hsla(225, 80%, 94%, 1);width:100px;\"><b>max-100</b></td><td  style=\"width:100px;\">7</td></tr><tr><td  style=\"background-color:hsla(225, 80%, 94%, 1);width:100px;\"><b>max-110</b></td><td  style=\"width:100px;\">8</td></tr><tr><td  style=\"background-color:hsla(225, 80%, 94%, 1);width:100px;\"><b>max-120</b></td><td  style=\"width:100px;\">9</td></tr><tr><td  style=\"background-color:hsla(225, 80%, 94%, 1);width:100px;\"><b>max-130</b></td><td  style=\"width:100px;\">10</td></tr><tr><td  style=\"background-color:hsla(225, 80%, 94%, 1);width:100px;\"><b>max-20</b></td><td  style=\"width:100px;\">0</td></tr><tr><td  style=\"background-color:hsla(225, 80%, 94%, 1);width:100px;\"><b>max-30</b></td><td  style=\"width:100px;\">1</td></tr><tr><td  style=\"background-color:hsla(225, 80%, 94%, 1);width:100px;\"><b>max-40</b></td><td  style=\"width:100px;\">2</td></tr><tr><td  style=\"background-color:hsla(225, 80%, 94%, 1);width:100px;\"><b>max-50</b></td><td  style=\"width:100px;\">3</td></tr><tr><td  style=\"background-color:hsla(225, 80%, 94%, 1);width:100px;\"><b>max-60</b></td><td  style=\"width:100px;\">4</td></tr><tr><td  style=\"background-color:hsla(225, 80%, 94%, 1);width:100px;\"><b>max-80</b></td><td  style=\"width:100px;\">5</td></tr><tr><td  style=\"background-color:hsla(225, 80%, 94%, 1);width:100px;\"><b>max-90</b></td><td  style=\"width:100px;\">6</td></tr></table>"
      ],
      "text/plain": [
       "<ipy_table.IpyTable at 0x7fd8d4f91cf8>"
      ]
     },
     "execution_count": 23,
     "metadata": {},
     "output_type": "execute_result"
    }
   ],
   "source": [
    "from ipy_table import *\n",
    "\n",
    "# Auxiliary ists\n",
    "temp = []\n",
    "classes_list = []\n",
    "\n",
    "# Convert the dictionary to a list\n",
    "for key, value in sorted(classes.items()):\n",
    "    temp = [key,value]\n",
    "    classes_list.append(temp)\n",
    "\n",
    "# Create table with make_table\n",
    "make_table(classes_list)\n",
    "\n",
    "# Apply some styles to the table after it is created\n",
    "set_column_style(0, width='100', bold=True, color='hsla(225, 80%, 94%, 1)')\n",
    "set_column_style(1, width='100')\n",
    "\n",
    "# Render the table\n",
    "render()"
   ]
  },
  {
   "cell_type": "code",
   "execution_count": 30,
   "metadata": {
    "collapsed": false,
    "deletable": true,
    "editable": true
   },
   "outputs": [
    {
     "data": {
      "image/png": "[encoded data removed]",
      "text/plain": [
       "<matplotlib.figure.Figure at 0x7fd8cc0f12b0>"
      ]
     },
     "metadata": {},
     "output_type": "display_data"
    }
   ],
   "source": [
    "# Verify data\n",
    "fig = plt.figure()\n",
    "\n",
    "ax1 = fig.add_subplot(131)\n",
    "ax2 = fig.add_subplot(132)\n",
    "ax3 = fig.add_subplot(133)\n",
    "\n",
    "index = random.randrange(0, len(train_data))\n",
    "ax1.imshow(train_data[index][0])\n",
    "ax1.set_title('Train example\\n' + str(train_data[index][1]))\n",
    "ax1.set_yticklabels([])\n",
    "ax1.set_xticklabels([])\n",
    "\n",
    "index = random.randrange(0, len(train_data))\n",
    "ax2.imshow(train_data[index][0])\n",
    "ax2.set_title('Train example\\n' + str(train_data[index][1]))\n",
    "ax2.set_yticklabels([])\n",
    "ax2.set_xticklabels([])\n",
    "\n",
    "index = random.randrange(0, len(train_data))\n",
    "ax3.imshow(train_data[index][0])\n",
    "ax3.set_title('Train example\\n' + str(train_data[index][1]))\n",
    "ax3.set_yticklabels([])\n",
    "ax3.set_xticklabels([])\n",
    "\n",
    "plt.show()"
   ]
  },
  {
   "cell_type": "code",
   "execution_count": 39,
   "metadata": {
    "collapsed": false,
    "deletable": true,
    "editable": true
   },
   "outputs": [],
   "source": [
    "# Transform list into numpy arrays\n",
    "train_data = np.array(train_data)\n",
    "\n",
    "# Save dictionaries to pickle files\n",
    "pickle_file_path = os.path.join(data_folder, train_pickle_file)\n",
    "pickle_file = open(pickle_file_path, 'wb')\n",
    "pickle.dump(train_data, pickle_file)"
   ]
  }
 ],
 "metadata": {
  "kernelspec": {
   "display_name": "Python 3",
   "language": "python",
   "name": "python3"
  },
  "language_info": {
   "codemirror_mode": {
    "name": "ipython",
    "version": 3
   },
   "file_extension": ".py",
   "mimetype": "text/x-python",
   "name": "python",
   "nbconvert_exporter": "python",
   "pygments_lexer": "ipython3",
   "version": "3.5.2"
  }
 },
 "nbformat": 4,
 "nbformat_minor": 2
}
