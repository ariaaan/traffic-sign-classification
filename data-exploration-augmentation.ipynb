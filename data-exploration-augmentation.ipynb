{
 "cells": [
  {
   "cell_type": "markdown",
   "metadata": {
    "deletable": true,
    "editable": true
   },
   "source": [
    "# Exploring the new dataset"
   ]
  },
  {
   "cell_type": "code",
   "execution_count": 1,
   "metadata": {
    "collapsed": true,
    "deletable": true,
    "editable": true
   },
   "outputs": [],
   "source": [
    "import os\n",
    "import cv2\n",
    "import json\n",
    "import glob\n",
    "import uuid\n",
    "import pickle\n",
    "import random\n",
    "import numpy as np\n",
    "from tqdm import tqdm_notebook\n",
    "from matplotlib import pyplot as plt\n",
    "\n",
    "%matplotlib inline\n",
    "plt.rcParams['figure.figsize'] = (20, 6)"
   ]
  },
  {
   "cell_type": "code",
   "execution_count": 2,
   "metadata": {
    "collapsed": false,
    "deletable": true,
    "editable": true
   },
   "outputs": [],
   "source": [
    "# Dataset folder\n",
    "dataset_folder = '/home/arian/Documents/proyecto-integrador/data/dataset-v4'\n",
    "classes_folders = glob.glob(os.path.join(dataset_folder, '*'))\n",
    "num_classes = len(classes_folders)"
   ]
  },
  {
   "cell_type": "code",
   "execution_count": 3,
   "metadata": {
    "collapsed": false,
    "deletable": true,
    "editable": true
   },
   "outputs": [
    {
     "name": "stdout",
     "output_type": "stream",
     "text": [
      "{'max-60': 4108, 'control-policial': 212, 'escuela': 1658, 'contramano': 1603, 'cruce': 5990, 'no-estacionar-detenerse': 617, 'max-130': 568, 'empalme-der': 4009, 'max-40': 3145, 'max-20': 58, 'max-50': 505, 'max-80': 4690, 'lomada': 998, 'curva-der': 3912, 'no-estacionar': 238, 'curva-izq': 3912, 'empalme-izq': 4027, 'max-120': 986, 'max-30': 31, 'max-100': 1141}\n"
     ]
    }
   ],
   "source": [
    "# Count data per class\n",
    "data = {}\n",
    "\n",
    "for class_folder in classes_folders:\n",
    "    image_files = glob.glob(os.path.join(class_folder, '*.jpg'))\n",
    "    class_id, class_label = os.path.basename(class_folder).split('-', maxsplit=1)\n",
    "    \n",
    "    data[class_label] = len(image_files)\n",
    "    \n",
    "print(data)"
   ]
  },
  {
   "cell_type": "code",
   "execution_count": 4,
   "metadata": {
    "collapsed": false,
    "deletable": true,
    "editable": true
   },
   "outputs": [
    {
     "data": {
      "image/png": "[encoded data removed]",
      "text/plain": [
       "<matplotlib.figure.Figure at 0x7f38ed7bf588>"
      ]
     },
     "metadata": {},
     "output_type": "display_data"
    }
   ],
   "source": [
    "# Plot data distribution\n",
    "plt.bar(range(len(data)), data.values(), align='center')\n",
    "plt.xticks(range(len(data)), data.keys())\n",
    "locs, labels = plt.xticks()\n",
    "plt.setp(labels, rotation=75)\n",
    "plt.show()"
   ]
  },
  {
   "cell_type": "markdown",
   "metadata": {
    "deletable": true,
    "editable": true
   },
   "source": [
    "### Generate new data for the classes with less data"
   ]
  },
  {
   "cell_type": "code",
   "execution_count": 5,
   "metadata": {
    "collapsed": false,
    "deletable": true,
    "editable": true
   },
   "outputs": [
    {
     "name": "stderr",
     "output_type": "stream",
     "text": [
      "Using TensorFlow backend.\n"
     ]
    }
   ],
   "source": [
    "# Import ImageDataGenerator\n",
    "from keras.preprocessing.image import ImageDataGenerator"
   ]
  },
  {
   "cell_type": "code",
   "execution_count": 6,
   "metadata": {
    "collapsed": false,
    "deletable": true,
    "editable": true
   },
   "outputs": [
    {
     "name": "stdout",
     "output_type": "stream",
     "text": [
      "/home/arian/Documents/proyecto-integrador/data/dataset-v4/17-max-100\n",
      "/home/arian/Documents/proyecto-integrador/data/dataset-v4/3-contramano\n",
      "/home/arian/Documents/proyecto-integrador/data/dataset-v4/16-max-80\n",
      "/home/arian/Documents/proyecto-integrador/data/dataset-v4/6-escuela\n",
      "/home/arian/Documents/proyecto-integrador/data/dataset-v4/15-max-60\n",
      "/home/arian/Documents/proyecto-integrador/data/dataset-v4/11-max-20\n",
      "/home/arian/Documents/proyecto-integrador/data/dataset-v4/8-no-estacionar\n",
      "/home/arian/Documents/proyecto-integrador/data/dataset-v4/14-max-50\n",
      "/home/arian/Documents/proyecto-integrador/data/dataset-v4/1-empalme-izq\n",
      "/home/arian/Documents/proyecto-integrador/data/dataset-v4/4-curva-izq\n",
      "/home/arian/Documents/proyecto-integrador/data/dataset-v4/13-max-40\n",
      "/home/arian/Documents/proyecto-integrador/data/dataset-v4/10-control-policial\n",
      "/home/arian/Documents/proyecto-integrador/data/dataset-v4/19-max-130\n",
      "/home/arian/Documents/proyecto-integrador/data/dataset-v4/0-cruce\n",
      "/home/arian/Documents/proyecto-integrador/data/dataset-v4/7-lomada\n",
      "/home/arian/Documents/proyecto-integrador/data/dataset-v4/12-max-30\n",
      "/home/arian/Documents/proyecto-integrador/data/dataset-v4/5-curva-der\n",
      "/home/arian/Documents/proyecto-integrador/data/dataset-v4/2-empalme-der\n",
      "/home/arian/Documents/proyecto-integrador/data/dataset-v4/18-max-120\n",
      "/home/arian/Documents/proyecto-integrador/data/dataset-v4/9-no-estacionar-detenerse\n"
     ]
    }
   ],
   "source": [
    "print('\\n'.join(classes_folders))"
   ]
  },
  {
   "cell_type": "code",
   "execution_count": 94,
   "metadata": {
    "collapsed": false,
    "deletable": true,
    "editable": true
   },
   "outputs": [
    {
     "name": "stdout",
     "output_type": "stream",
     "text": [
      "/home/arian/Documents/proyecto-integrador/data/dataset-v4/17-max-100\n"
     ]
    }
   ],
   "source": [
    "# Class folder to augmentate the data\n",
    "class_folder = classes_folders[0]\n",
    "print(class_folder)"
   ]
  },
  {
   "cell_type": "code",
   "execution_count": 95,
   "metadata": {
    "collapsed": false,
    "deletable": true,
    "editable": true
   },
   "outputs": [],
   "source": [
    "# Read images of that class\n",
    "image_list = glob.glob(os.path.join(class_folder, '*.jpg'))\n",
    "\n",
    "images = []\n",
    "\n",
    "for image in image_list:\n",
    "    img = cv2.imread(image)\n",
    "    img = cv2.resize(img, (64, 64))\n",
    "    img = img[...,::-1]\n",
    "    images.append(img)\n",
    "    \n",
    "images = np.array(images)"
   ]
  },
  {
   "cell_type": "code",
   "execution_count": 96,
   "metadata": {
    "collapsed": true,
    "deletable": true,
    "editable": true
   },
   "outputs": [],
   "source": [
    "# Data generator\n",
    "datagen = ImageDataGenerator(rotation_range=5,\n",
    "                             width_shift_range=0.1,\n",
    "                             height_shift_range=0.1,\n",
    "                             shear_range=0.1,\n",
    "                             zoom_range=0.1,\n",
    "                             fill_mode='nearest')"
   ]
  },
  {
   "cell_type": "code",
   "execution_count": 97,
   "metadata": {
    "collapsed": false,
    "deletable": true,
    "editable": true
   },
   "outputs": [],
   "source": [
    "datagen.fit(images)"
   ]
  },
  {
   "cell_type": "code",
   "execution_count": 98,
   "metadata": {
    "collapsed": true
   },
   "outputs": [],
   "source": [
    "images_to_generate = 3200\n",
    "output_path = '/home/arian/output/max-100'"
   ]
  },
  {
   "cell_type": "code",
   "execution_count": 99,
   "metadata": {
    "collapsed": false,
    "deletable": true,
    "editable": true
   },
   "outputs": [],
   "source": [
    "times = 0\n",
    "\n",
    "for x_batch, y_batch in datagen.flow(images, images, batch_size=len(image_list)):\n",
    "    \n",
    "    for i in range(len(image_list)):\n",
    "        rand_brightness = random.randint(-100, 100)\n",
    "        out = cv2.add(x_batch[i], np.array([float(rand_brightness)]))\n",
    "        out = out[...,::-1]\n",
    "        img_path = os.path.join(output_path, str(uuid.uuid4()) + '.jpg')\n",
    "        cv2.imwrite(img_path, out)\n",
    "        \n",
    "        times += 1\n",
    "        \n",
    "        if times == images_to_generate: \n",
    "            break\n",
    "    \n",
    "    if times == images_to_generate:\n",
    "        break"
   ]
  },
  {
   "cell_type": "code",
   "execution_count": null,
   "metadata": {
    "collapsed": true
   },
   "outputs": [],
   "source": []
  }
 ],
 "metadata": {
  "kernelspec": {
   "display_name": "Python 3",
   "language": "python",
   "name": "python3"
  },
  "language_info": {
   "codemirror_mode": {
    "name": "ipython",
    "version": 3
   },
   "file_extension": ".py",
   "mimetype": "text/x-python",
   "name": "python",
   "nbconvert_exporter": "python",
   "pygments_lexer": "ipython3",
   "version": "3.5.2"
  }
 },
 "nbformat": 4,
 "nbformat_minor": 2
}
