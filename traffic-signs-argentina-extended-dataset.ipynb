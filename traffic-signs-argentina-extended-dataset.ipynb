{
 "cells": [
  {
   "cell_type": "markdown",
   "metadata": {
    "deletable": true,
    "editable": true
   },
   "source": [
    "# Traffic Signs Dataset (Argentina)\n",
    "In this notebook, I'm going to be organizing my traffic signs dataset, creating pickle files, etc."
   ]
  },
  {
   "cell_type": "code",
   "execution_count": 7,
   "metadata": {
    "collapsed": true,
    "deletable": true,
    "editable": true
   },
   "outputs": [],
   "source": [
    "import os\n",
    "import cv2\n",
    "import json\n",
    "import glob\n",
    "import pickle\n",
    "import random\n",
    "import numpy as np\n",
    "from tqdm import tqdm_notebook\n",
    "from matplotlib import pyplot as plt\n",
    "\n",
    "%matplotlib inline\n",
    "plt.rcParams['figure.figsize'] = (20, 6)"
   ]
  },
  {
   "cell_type": "code",
   "execution_count": 8,
   "metadata": {
    "collapsed": true,
    "deletable": true,
    "editable": true
   },
   "outputs": [],
   "source": [
    "# Dataset path\n",
    "dataset_train = '/home/arian/Documents/proyecto-integrador/data/dataset-v4/'\n",
    "\n",
    "# Pickle folder \n",
    "data_folder = './data/20-classes/'\n",
    "train_pickle_file = 'train.p' \n",
    "valid_pickle_file = 'valid.p'\n",
    "\n",
    "# Classes file\n",
    "classes_file = 'classes.json'\n",
    "\n",
    "# Image size\n",
    "IMG_SIZE = 64"
   ]
  },
  {
   "cell_type": "code",
   "execution_count": 9,
   "metadata": {
    "collapsed": false,
    "deletable": true,
    "editable": true
   },
   "outputs": [],
   "source": [
    "# Load classes\n",
    "with open(os.path.join(data_folder, classes_file), mode='r') as json_file:\n",
    "    classes = json.load(json_file)"
   ]
  },
  {
   "cell_type": "code",
   "execution_count": 10,
   "metadata": {
    "collapsed": false,
    "deletable": true,
    "editable": true
   },
   "outputs": [
    {
     "data": {
      "text/plain": [
       "{'0': {'color': [139, 42, 175], 'name': 'cruce'},\n",
       " '1': {'color': [83, 251, 138], 'name': 'empalme-izq'},\n",
       " '10': {'color': [77, 81, 157], 'name': 'control-policial'},\n",
       " '11': {'color': [233, 29, 82], 'name': 'max-20'},\n",
       " '12': {'color': [217, 172, 114], 'name': 'max-30'},\n",
       " '13': {'color': [14, 246, 77], 'name': 'max-40'},\n",
       " '14': {'color': [207, 255, 67], 'name': 'max-50'},\n",
       " '15': {'color': [222, 180, 32], 'name': 'max-60'},\n",
       " '16': {'color': [194, 180, 89], 'name': 'max-80'},\n",
       " '17': {'color': [47, 197, 77], 'name': 'max-100'},\n",
       " '18': {'color': [22, 156, 96], 'name': 'max-120'},\n",
       " '19': {'color': [56, 152, 174], 'name': 'max-130'},\n",
       " '2': {'color': [242, 237, 170], 'name': 'empalme-der'},\n",
       " '3': {'color': [84, 176, 143], 'name': 'contramano'},\n",
       " '4': {'color': [55, 173, 39], 'name': 'curva-izq'},\n",
       " '5': {'color': [190, 195, 140], 'name': 'curva-der'},\n",
       " '6': {'color': [22, 36, 88], 'name': 'escuela'},\n",
       " '7': {'color': [11, 100, 102], 'name': 'lomada'},\n",
       " '8': {'color': [152, 112, 207], 'name': 'no-estacionar'},\n",
       " '9': {'color': [39, 152, 141], 'name': 'no-estacionar-detenerse'}}"
      ]
     },
     "execution_count": 10,
     "metadata": {},
     "output_type": "execute_result"
    }
   ],
   "source": [
    "classes"
   ]
  },
  {
   "cell_type": "code",
   "execution_count": 11,
   "metadata": {
    "collapsed": false,
    "deletable": true,
    "editable": true
   },
   "outputs": [
    {
     "data": {
      "text/html": [
       "<table border=\"1\" cellpadding=\"3\" cellspacing=\"0\"  style=\"border:1px solid black;border-collapse:collapse;\"><tr><td  style=\"background-color:hsla(225, 80%, 94%, 1);width:100px;\"><b>0</b></td><td  style=\"width:100px;\">cruce</td></tr><tr><td  style=\"background-color:hsla(225, 80%, 94%, 1);width:100px;\"><b>1</b></td><td  style=\"width:100px;\">empalme-izq</td></tr><tr><td  style=\"background-color:hsla(225, 80%, 94%, 1);width:100px;\"><b>10</b></td><td  style=\"width:100px;\">control-policial</td></tr><tr><td  style=\"background-color:hsla(225, 80%, 94%, 1);width:100px;\"><b>11</b></td><td  style=\"width:100px;\">max-20</td></tr><tr><td  style=\"background-color:hsla(225, 80%, 94%, 1);width:100px;\"><b>12</b></td><td  style=\"width:100px;\">max-30</td></tr><tr><td  style=\"background-color:hsla(225, 80%, 94%, 1);width:100px;\"><b>13</b></td><td  style=\"width:100px;\">max-40</td></tr><tr><td  style=\"background-color:hsla(225, 80%, 94%, 1);width:100px;\"><b>14</b></td><td  style=\"width:100px;\">max-50</td></tr><tr><td  style=\"background-color:hsla(225, 80%, 94%, 1);width:100px;\"><b>15</b></td><td  style=\"width:100px;\">max-60</td></tr><tr><td  style=\"background-color:hsla(225, 80%, 94%, 1);width:100px;\"><b>16</b></td><td  style=\"width:100px;\">max-80</td></tr><tr><td  style=\"background-color:hsla(225, 80%, 94%, 1);width:100px;\"><b>17</b></td><td  style=\"width:100px;\">max-100</td></tr><tr><td  style=\"background-color:hsla(225, 80%, 94%, 1);width:100px;\"><b>18</b></td><td  style=\"width:100px;\">max-120</td></tr><tr><td  style=\"background-color:hsla(225, 80%, 94%, 1);width:100px;\"><b>19</b></td><td  style=\"width:100px;\">max-130</td></tr><tr><td  style=\"background-color:hsla(225, 80%, 94%, 1);width:100px;\"><b>2</b></td><td  style=\"width:100px;\">empalme-der</td></tr><tr><td  style=\"background-color:hsla(225, 80%, 94%, 1);width:100px;\"><b>3</b></td><td  style=\"width:100px;\">contramano</td></tr><tr><td  style=\"background-color:hsla(225, 80%, 94%, 1);width:100px;\"><b>4</b></td><td  style=\"width:100px;\">curva-izq</td></tr><tr><td  style=\"background-color:hsla(225, 80%, 94%, 1);width:100px;\"><b>5</b></td><td  style=\"width:100px;\">curva-der</td></tr><tr><td  style=\"background-color:hsla(225, 80%, 94%, 1);width:100px;\"><b>6</b></td><td  style=\"width:100px;\">escuela</td></tr><tr><td  style=\"background-color:hsla(225, 80%, 94%, 1);width:100px;\"><b>7</b></td><td  style=\"width:100px;\">lomada</td></tr><tr><td  style=\"background-color:hsla(225, 80%, 94%, 1);width:100px;\"><b>8</b></td><td  style=\"width:100px;\">no-estacionar</td></tr><tr><td  style=\"background-color:hsla(225, 80%, 94%, 1);width:100px;\"><b>9</b></td><td  style=\"width:100px;\">no-estacionar-detenerse</td></tr></table>"
      ],
      "text/plain": [
       "<ipy_table.IpyTable at 0x7fae64b77c88>"
      ]
     },
     "execution_count": 11,
     "metadata": {},
     "output_type": "execute_result"
    }
   ],
   "source": [
    "from ipy_table import *\n",
    "\n",
    "# Auxiliary ists\n",
    "temp = []\n",
    "classes_list = []\n",
    "\n",
    "# Convert the dictionary to a list\n",
    "for key, value in sorted(classes.items()):\n",
    "    temp = [key,value['name']]\n",
    "    classes_list.append(temp)\n",
    "\n",
    "# Create table with make_table\n",
    "make_table(classes_list)\n",
    "\n",
    "# Apply some styles to the table after it is created\n",
    "set_column_style(0, width='100', bold=True, color='hsla(225, 80%, 94%, 1)')\n",
    "set_column_style(1, width='100')\n",
    "\n",
    "# Render the table\n",
    "render()"
   ]
  },
  {
   "cell_type": "code",
   "execution_count": 12,
   "metadata": {
    "collapsed": false,
    "deletable": true,
    "editable": true
   },
   "outputs": [
    {
     "data": {
      "application/vnd.jupyter.widget-view+json": {
       "model_id": "77794edd3cdc493d89e6e8eafb44db41"
      }
     },
     "metadata": {},
     "output_type": "display_data"
    },
    {
     "name": "stdout",
     "output_type": "stream",
     "text": [
      "\n"
     ]
    }
   ],
   "source": [
    "VALID_PERCENTAGE = 0.70\n",
    "\n",
    "classes_folder = glob.glob(os.path.join(dataset_train, '*'))\n",
    "\n",
    "train_data = {'features': [], 'labels': []}\n",
    "valid_data = {'features': [], 'labels': []}\n",
    "\n",
    "for class_folder in tqdm_notebook(classes_folder):\n",
    "    file_filter = '*.jpg'\n",
    "    file_list = glob.glob(os.path.join(class_folder, file_filter))\n",
    "    \n",
    "    class_id = int(os.path.basename(class_folder).split('-')[0])\n",
    "    \n",
    "    image_count = len(file_list)\n",
    "    valid_limit = int(VALID_PERCENTAGE*image_count)\n",
    "    \n",
    "    # Add to train_data\n",
    "    for image_path in file_list[:valid_limit]:\n",
    "        img = cv2.imread(image_path)\n",
    "        img = cv2.resize(img, (IMG_SIZE, IMG_SIZE))\n",
    "        img = img[...,::-1]\n",
    "        \n",
    "        train_data['features'].append(img)\n",
    "        train_data['labels'].append(class_id)\n",
    "        \n",
    "    # Add to valid_data\n",
    "    for image_path in file_list[valid_limit:]:\n",
    "        img = cv2.imread(image_path)\n",
    "        img = cv2.resize(img, (IMG_SIZE, IMG_SIZE))\n",
    "        img = img[...,::-1]\n",
    "        \n",
    "        valid_data['features'].append(img)\n",
    "        valid_data['labels'].append(class_id)"
   ]
  },
  {
   "cell_type": "code",
   "execution_count": 13,
   "metadata": {
    "collapsed": false,
    "deletable": true,
    "editable": true
   },
   "outputs": [],
   "source": [
    "# Transform list into numpy arrays\n",
    "train_data['features'] = np.array(train_data['features'])\n",
    "train_data['labels'] = np.array(train_data['labels'])\n",
    "\n",
    "valid_data['features'] = np.array(valid_data['features'])\n",
    "valid_data['labels'] = np.array(valid_data['labels'])"
   ]
  },
  {
   "cell_type": "code",
   "execution_count": 14,
   "metadata": {
    "collapsed": false,
    "deletable": true,
    "editable": true
   },
   "outputs": [
    {
     "name": "stdout",
     "output_type": "stream",
     "text": [
      "(29676, 64, 64, 3)\n",
      "(29676,)\n",
      "(12732, 64, 64, 3)\n",
      "(12732,)\n"
     ]
    }
   ],
   "source": [
    "# Print shapes\n",
    "print(train_data['features'].shape)\n",
    "print(train_data['labels'].shape)\n",
    "\n",
    "print(valid_data['features'].shape)\n",
    "print(valid_data['labels'].shape)"
   ]
  },
  {
   "cell_type": "code",
   "execution_count": 18,
   "metadata": {
    "collapsed": false,
    "deletable": true,
    "editable": true
   },
   "outputs": [
    {
     "data": {
      "image/png": "[encoded data removed]",
      "text/plain": [
       "<matplotlib.figure.Figure at 0x7fae64555ac8>"
      ]
     },
     "metadata": {},
     "output_type": "display_data"
    }
   ],
   "source": [
    "# Verify data\n",
    "fig = plt.figure()\n",
    "\n",
    "ax1 = fig.add_subplot(121)\n",
    "ax2 = fig.add_subplot(122)\n",
    "\n",
    "index = random.randrange(0, len(train_data['features']))\n",
    "ax1.imshow(train_data['features'][index])\n",
    "ax1.set_title('Train example\\n' + classes[str(train_data['labels'][index])]['name'])\n",
    "ax1.set_yticklabels([])\n",
    "ax1.set_xticklabels([])\n",
    "\n",
    "index = random.randrange(0, len(valid_data['features']))\n",
    "ax2.imshow(valid_data['features'][index])\n",
    "ax2.set_title('Valid example\\n' + classes[str(valid_data['labels'][index])]['name'])\n",
    "ax2.set_yticklabels([])\n",
    "ax2.set_xticklabels([])\n",
    "\n",
    "plt.show()"
   ]
  },
  {
   "cell_type": "code",
   "execution_count": 19,
   "metadata": {
    "collapsed": false,
    "deletable": true,
    "editable": true
   },
   "outputs": [],
   "source": [
    "# Save dictionaries to pickle files\n",
    "pickle_file_path = os.path.join(data_folder, train_pickle_file)\n",
    "pickle_file = open(pickle_file_path, 'wb')\n",
    "pickle.dump(train_data, pickle_file)\n",
    "\n",
    "pickle_file_path = os.path.join(data_folder, valid_pickle_file)\n",
    "pickle_file = open(pickle_file_path, 'wb')\n",
    "pickle.dump(valid_data, pickle_file)"
   ]
  }
 ],
 "metadata": {
  "kernelspec": {
   "display_name": "Python 3",
   "language": "python",
   "name": "python3"
  },
  "language_info": {
   "codemirror_mode": {
    "name": "ipython",
    "version": 3
   },
   "file_extension": ".py",
   "mimetype": "text/x-python",
   "name": "python",
   "nbconvert_exporter": "python",
   "pygments_lexer": "ipython3",
   "version": "3.5.2"
  }
 },
 "nbformat": 4,
 "nbformat_minor": 2
}
